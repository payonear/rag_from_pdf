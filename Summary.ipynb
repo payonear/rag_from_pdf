{
 "cells": [
  {
   "cell_type": "markdown",
   "metadata": {},
   "source": [
    "This file is created to provide an additional description of the system. In this notebook I'll discuss the system details and demonstrate it's capabilities asking 10 questions."
   ]
  },
  {
   "cell_type": "markdown",
   "metadata": {},
   "source": [
    "## System assumptions\n",
    "\n",
    "The system is a simple chatbot capable of answering GDPR related questions based on `GDPR Art 1-21.pdf` file with CL interface. This version leverages OpenAI API for language model (`gpt-3.5-turbo-0125`) and FAISS for similarity search with OpenAI embeddings (`text-embedding-3-large`). You can replace these models easily with other OpenAI models by defining them as environment variables. \n",
    "\n",
    "Considering limited time constraint several simplifications of the system are made:\n",
    "* PDF file data processing was relatively simple, there could be more steps for better text processing;\n",
    "* There were not much of experimenting with different LLMs and embedding models, the choice of the models comes from the experience;\n",
    "* Processed documents are stored in JSON format within the project, not in the external database to not add additional dependency to project;\n",
    "* Chatbot stores chat history in-memory and not in the database. So, the chatbot remembers only messages from the current session. It can be easily changed by leveraging [LangChain integrations with DBs](https://python.langchain.com/v0.1/docs/integrations/memory/);\n",
    "* There were no experimenting with different chunking approaches for RAG vectorization;\n",
    "* There were no exhaustive quality testing of RAG. I used 10 questions to demonstrate system capabilities in this notebook."
   ]
  },
  {
   "cell_type": "markdown",
   "metadata": {},
   "source": [
    "## System design"
   ]
  },
  {
   "cell_type": "markdown",
   "metadata": {},
   "source": [
    "There two main components of the system: RAG and chatbot. RAG is a FAISS index storing in-memory embeddings of documents. When the user asks question, the question is used as a prompt to retrieve few relevant (default 4) documents from the index. To create an index several text processing steps were made: text was divided to articles, some redundant and repeating elements were removed, finally each article was processed by chunking on max length of 1000 characters and 100 characters overlap. Afterwards obtained documents were vectorized using `text-embedding-3-large` embedder from OpenAI.\n",
    "\n",
    "A chatbot is implemented using LangChain and has a pretty basic logic. It receives user's message, asks RAG for several relevant documents, checks whether the documents are relevant to a question. If they are, than responds the question based on information available, if not, than just responds \"I don't know\". Chatbot stores interaction history, so remembers all the historical messages within session.\n",
    "\n",
    "When it comes to deployment, I used [poetry](https://python-poetry.org/) for venv management. All dependencies are specified in `pyproject.toml`. The service is containerized with Docker to make it's setup very easy."
   ]
  },
  {
   "cell_type": "markdown",
   "metadata": {},
   "source": [
    "## System capabilities with examples\n",
    "\n",
    "Let's see how the chatbot answers questions and what information it gets from the RAG. For this we'll do some magic with a logger to see only log we need. And wee need to see what documents RAG picks to add to context for the response. We'll check not only GDPR related questions but the questions that are not related to the document to make sure the bot responds `\"I don't know.` to such questions."
   ]
  },
  {
   "cell_type": "code",
   "execution_count": 1,
   "metadata": {},
   "outputs": [],
   "source": [
    "import logging\n",
    "logger = logging.getLogger(__name__)\n",
    "logging.basicConfig(level=logging.DEBUG)\n",
    "logging.getLogger('httpx').setLevel(level=logging.WARNING)\n",
    "logging.getLogger('langchain_text_splitters').setLevel(level=logging.ERROR)\n",
    "logging.getLogger('openai').setLevel(level=logging.WARNING)\n",
    "logging.getLogger('httpcore').setLevel(level=logging.WARNING)\n",
    "\n",
    "from engine.chatbot import Chatbot"
   ]
  },
  {
   "cell_type": "code",
   "execution_count": 2,
   "metadata": {},
   "outputs": [
    {
     "name": "stderr",
     "output_type": "stream",
     "text": [
      "DEBUG:engine.retriever:Starting index setup.\n",
      "DEBUG:engine.retriever:Trying to read raw documents file.\n",
      "DEBUG:engine.retriever:Raw documents file was found.\n",
      "DEBUG:engine.retriever:Converting documents to LangChain documents for convenient processing.\n",
      "DEBUG:engine.retriever:Documents were converted to LangChain documents format for convenient processing.\n",
      "DEBUG:engine.retriever:Splitting documents for vectorization.\n",
      "DEBUG:engine.retriever:Documents were splitted.\n",
      "DEBUG:engine.retriever:Creating FAISS index with OpenAI embeddings.\n",
      "DEBUG:faiss.loader:Environment variable FAISS_OPT_LEVEL is not set, so let's pick the instruction set according to the current CPU\n",
      "INFO:faiss.loader:Loading faiss.\n",
      "INFO:faiss.loader:Successfully loaded faiss.\n",
      "DEBUG:engine.retriever:FAISS index with OpenAI embeddings was created.\n",
      "DEBUG:engine.retriever:Index setup was successful.\n"
     ]
    }
   ],
   "source": [
    "bot = Chatbot()"
   ]
  },
  {
   "cell_type": "markdown",
   "metadata": {},
   "source": [
    "### Question 1"
   ]
  },
  {
   "cell_type": "markdown",
   "metadata": {},
   "source": [
    "Let's start with a first question. Below we can see logs with 4 most relevant documents found by RAG."
   ]
  },
  {
   "cell_type": "code",
   "execution_count": 3,
   "metadata": {},
   "outputs": [
    {
     "name": "stderr",
     "output_type": "stream",
     "text": [
      "DEBUG:engine.chatbot:Found relevant document:\n",
      " page_content='data subject\n",
      "\n",
      "Recitals\n",
      "\n",
      "(58) The principle of transparency requires that any information addressed to the public or to the data subject be\n",
      "concise, easily accessible and easy to understand, and that clear and plain language and, additionally, where\n",
      "appropriate, visualisation be used. Such information could be provided in electronic form, for example, when\n",
      "addressed to the public, through a website. This is of particular relevance in situations where the proliferation of\n",
      "actors and the technological complexity of practice make it difficult for the data subject to know and understand\n",
      "whether, by whom and for what purpose personal data relating to him or her are being collected, such as in the case\n",
      "of online advertising. Given that children merit specific protection, any information and communication, where\n",
      "processing is addressed to a child, should be in such a clear and plain language that the child can easily understand.' metadata={'article_number': 12, 'article_summary': 'Transparent information, communication and modalities for the exercise of the rights of the data subject: Obligates controllers to provide information about data processing in a concise, transparent, and easily accessible form.\\n'}\n",
      "DEBUG:engine.chatbot:Found relevant document:\n",
      " page_content='1. Personal data shall be:\n",
      "\n",
      "(a) processed lawfully, fairly and in a transparent manner in relation to the data subject (‘lawfulness, fairness and\n",
      "transparency’);\n",
      "\n",
      "Recitals\n",
      "\n",
      "(39) Any processing of personal data should be lawful and fair. It should be transparent to natural persons that personal data\n",
      "\n",
      "concerning them are collected, used, consulted or otherwise processed and to what extent the personal data are or will be processed.\n",
      "\n",
      "The principle of transparency requires that any information and communication relating to the processing of those personal data be\n",
      "\n",
      "easily accessible and easy to understand, and that clear and plain language be used. That principle concerns, in particular, information\n",
      "\n",
      "to the data subjects on the identity of the controller and the purposes of the processing and further information to ensure fair and\n",
      "\n",
      "transparent processing in respect of the natural persons concerned and their right to obtain confirmation and communication of' metadata={'article_number': 5, 'article_summary': 'Principles relating to processing of personal data: Lists the core principles for processing personal data, including lawfulness, fairness, transparency, purpose limitation, data minimization, accuracy, storage limitation, integrity, and confidentiality.\\n'}\n",
      "DEBUG:engine.chatbot:Found relevant document:\n",
      " page_content='(39) Any processing of personal data should be lawful and fair. It should be transparent to natural persons that\n",
      "personal data concerning them are collected, used, consulted or otherwise processed and to what extent the personal\n",
      "data are or will be processed. The principle of transparency requires that any information and communication relating\n",
      "to the processing of those personal data be easily accessible and easy to understand, and that clear and plain language\n",
      "be used. That principle concerns, in particular, information to the data subjects on the identity of the controller and\n",
      "the purposes of the processing and further information to ensure fair and transparent processing in respect of the\n",
      "natural persons concerned and their right to obtain confirmation and communication of personal data concerning\n",
      "them which are being processed. Natural persons should be made aware of risks, rules, safeguards and rights in\n",
      "relation to the processing of personal data and how to exercise their rights in relation to such processing. In particular,\n",
      "the specific purposes for which personal data are processed should be explicit and legitimate and determined at the\n",
      "time of the collection of the personal data. The personal data should be adequate, relevant and limited to what is\n",
      "necessary for the purposes for which they are processed. This requires, in particular, ensuring that the period for\n",
      "which the personal data are stored is limited to a strict minimum. Personal data should be processed only if the\n",
      "purpose of the processing could not reasonably be fulfilled by other means. In order to ensure that the personal data\n",
      "are not kept longer than necessary, time limits should be established by the controller for erasure or for a periodic\n",
      "review. Every reasonable step should be taken to ensure that personal data which are inaccurate are rectified or\n",
      "deleted. Personal data should be processed in a manner that ensures appropriate security and confidentiality of the' metadata={'article_number': 5, 'article_summary': 'Principles relating to processing of personal data: Lists the core principles for processing personal data, including lawfulness, fairness, transparency, purpose limitation, data minimization, accuracy, storage limitation, integrity, and confidentiality.\\n'}\n",
      "DEBUG:engine.chatbot:Found relevant document:\n",
      " page_content='1. The controller shall take appropriate measures to provide any information referred to in Articles 13 and 14 and\n",
      "any communication under Articles 15 to 22 and 34 relating to processing to the data subject in a concise,\n",
      "transparent, intelligible and easily accessible form, using clear and plain language, in particular for any information\n",
      "addressed specifically to a child. The information shall be provided in writing, or by other means, including, where\n",
      "appropriate, by electronic means. When requested by the data subject, the information may be provided orally,\n",
      "provided that the identity of the data subject is proven by other means.\n",
      "\n",
      "Recitals\n",
      "\n",
      "(58) The principle of transparency requires that any information addressed to the public or to the data subject be concise, easily\n",
      "\n",
      "accessible and easy to understand, and that clear and plain language and, additionally, where appropriate, visualisation be used. Such' metadata={'article_number': 12, 'article_summary': 'Transparent information, communication and modalities for the exercise of the rights of the data subject: Obligates controllers to provide information about data processing in a concise, transparent, and easily accessible form.\\n'}\n"
     ]
    }
   ],
   "source": [
    "question = \"What is the principle of transparency stands for?\"\n",
    "response = bot.respond(question)"
   ]
  },
  {
   "cell_type": "code",
   "execution_count": 4,
   "metadata": {},
   "outputs": [
    {
     "name": "stdout",
     "output_type": "stream",
     "text": [
      "The principle of transparency, as outlined in the GDPR, requires that any information addressed to the public or to the data subject be concise, easily accessible, and easy to understand. It emphasizes the use of clear and plain language, and where appropriate, visualization. This principle ensures that individuals are informed about the collection, use, and processing of their personal data, including the purposes of the processing and their rights in relation to such processing.\n"
     ]
    }
   ],
   "source": [
    "# Response\n",
    "print(response)"
   ]
  },
  {
   "cell_type": "markdown",
   "metadata": {},
   "source": [
    "You can see, that the bot has the access to chat history."
   ]
  },
  {
   "cell_type": "code",
   "execution_count": 6,
   "metadata": {},
   "outputs": [
    {
     "name": "stdout",
     "output_type": "stream",
     "text": [
      "Human: What is the principle of transparency stands for?\n",
      "AI: The principle of transparency, as outlined in the GDPR, requires that any information addressed to the public or to the data subject be concise, easily accessible, and easy to understand. It emphasizes the use of clear and plain language, and where appropriate, visualization. This principle ensures that individuals are informed about the collection, use, and processing of their personal data, including the purposes of the processing and their rights in relation to such processing.\n"
     ]
    }
   ],
   "source": [
    "print(bot.memory)"
   ]
  },
  {
   "cell_type": "markdown",
   "metadata": {},
   "source": [
    "### Question 2"
   ]
  },
  {
   "cell_type": "markdown",
   "metadata": {},
   "source": [
    "Let's now ask question, that is not relevant to GDPR."
   ]
  },
  {
   "cell_type": "code",
   "execution_count": 7,
   "metadata": {},
   "outputs": [
    {
     "name": "stderr",
     "output_type": "stream",
     "text": [
      "DEBUG:engine.chatbot:Found relevant document:\n",
      " page_content='[5] Commission Recommendation of 6 May 2003 concerning the definition of micro, small and medium-sized\n",
      "https://eur-lex.europa.eu/legal-\n",
      "L\n",
      "enterprises\n",
      "content/EN/AUTO/?uri=OJ:L:2003:124:TOC\n",
      "\n",
      "20.5.2003,\n",
      "\n",
      "(C(2003)\n",
      "\n",
      "1422)\n",
      "\n",
      "124,\n",
      "\n",
      "36).\n",
      "\n",
      "(OJ\n",
      "\n",
      "p.' metadata={'article_number': 1, 'article_summary': \"Subject-matter and objectives: This article outlines the GDPR's purpose, which is to protect individuals' rights regarding their personal data and to regulate the processing of such data.\\n\"}\n",
      "DEBUG:engine.chatbot:Found relevant document:\n",
      " page_content='personal data, and equivalent sanctions in all Member States as well as effective cooperation between the supervisory\n",
      "authorities of different Member States. The proper functioning of the internal market requires that the free\n",
      "movement of personal data within the Union is not restricted or prohibited for reasons connected with the protection\n",
      "of natural persons with regard to the processing of personal data. To take account of the specific situation of micro,\n",
      "small and medium-sized enterprises, this Regulation includes a derogation for organisations with fewer than 250\n",
      "employees with regard to record-keeping. In addition, the Union institutions and bodies, and Member States and their\n",
      "supervisory authorities, are encouraged to take account of the specific needs of micro, small and medium-sized\n",
      "enterprises in the application of this Regulation. The notion of micro, small and medium-sized enterprises should\n",
      "draw from Article 2 of the Annex to Commission Recommendation 2003/361/EC [5].' metadata={'article_number': 1, 'article_summary': \"Subject-matter and objectives: This article outlines the GDPR's purpose, which is to protect individuals' rights regarding their personal data and to regulate the processing of such data.\\n\"}\n",
      "DEBUG:engine.chatbot:Found relevant document:\n",
      " page_content='(24) The processing of personal data of data subjects who are in the Union by a controller or processor not\n",
      "established in the Union should also be subject to this Regulation when it is related to the monitoring of the behaviour\n",
      "of such data subjects in so far as their behaviour takes place within the Union. In order to determine whether a\n",
      "processing activity can be considered to monitor the behaviour of data subjects, it should be ascertained whether\n",
      "natural persons are tracked on the internet including potential subsequent use of personal data processing techniques\n",
      "which consist of profiling a natural person, particularly in order to take decisions concerning her or him or for\n",
      "analysing or predicting her or his personal preferences, behaviours and attitudes.\n",
      "\n",
      "(25) Where Member State law applies by virtue of public international law, this Regulation should also apply to a\n",
      "controller not established in the Union, such as in a Member State’s diplomatic mission or consular post.Documents' metadata={'article_number': 3, 'article_summary': 'Territorial scope: Defines the geographical scope of the GDPR, applying to organizations based in the EU and those outside the EU that offer goods or services to, or monitor the behavior of, EU data subjects.\\n'}\n",
      "DEBUG:engine.chatbot:Found relevant document:\n",
      " page_content='Recitals\n",
      "\n",
      "(1) The protection of natural persons in relation to the processing of personal data is a fundamental right. Article 8(1)\n",
      "of the Charter of Fundamental Rights of the European Union (the ‘Charter’) and Article 16(1) of the Treaty on the\n",
      "Functioning of the European Union (TFEU) provide that everyone has the right to the protection of personal data\n",
      "concerning him or her.\n",
      "\n",
      "(2) The principles of, and rules on the protection of natural persons with regard to the processing of their personal\n",
      "data should, whatever their nationality or residence, respect their fundamental rights and freedoms, in particular their\n",
      "right to the protection of personal data. This Regulation is intended to contribute to the accomplishment of an area of\n",
      "freedom, security and justice and of an economic union, to economic and social progress, to the strengthening and the\n",
      "convergence of the economies within the internal market, and to the well-being of natural persons.' metadata={'article_number': 1, 'article_summary': \"Subject-matter and objectives: This article outlines the GDPR's purpose, which is to protect individuals' rights regarding their personal data and to regulate the processing of such data.\\n\"}\n"
     ]
    }
   ],
   "source": [
    "question = \"How big is the moon?\"\n",
    "response = bot.respond(question)"
   ]
  },
  {
   "cell_type": "code",
   "execution_count": 9,
   "metadata": {},
   "outputs": [
    {
     "name": "stdout",
     "output_type": "stream",
     "text": [
      "I don't know.\n"
     ]
    }
   ],
   "source": [
    "# Great, he doesn't know :)\n",
    "print(response)"
   ]
  },
  {
   "cell_type": "markdown",
   "metadata": {},
   "source": [
    "### Question 3"
   ]
  },
  {
   "cell_type": "markdown",
   "metadata": {},
   "source": [
    "Let's try something more tricky, something that mentions GDPR."
   ]
  },
  {
   "cell_type": "code",
   "execution_count": 12,
   "metadata": {},
   "outputs": [
    {
     "name": "stderr",
     "output_type": "stream",
     "text": [
      "DEBUG:engine.chatbot:Found relevant document:\n",
      " page_content='Guidelines & Case Law\n",
      "\n",
      "WP29, Update of Opinion on applicable law in light of the CJEU judgement in Google Spain (2010).\n",
      "\n",
      "EDPB, Guidelines 3/2018 on the Territorial Scope of the GDPR (2019).\n",
      "\n",
      "EDPB, Guidelines 05/2021 on the Interplay between the application of Article 3 and the provisions on international\n",
      "transfers as per Chapter V of the GDPR (2021).\n",
      "\n",
      "Case Law\n",
      "\n",
      "CJEU, Pammer and Hotel Alpenhof GesmbH/Reederei Karl Schlüter GmbH & Co. KG and Heller, C-585/08 and\n",
      "C-144/09 (2010).\n",
      "\n",
      "CJEU, Google Spain SL/Agencia española de protección de datos, C-131/12 (2014).\n",
      "\n",
      "CJEU, Verein für Konsumenteninformation/Amazon EU Sàrl, C-191/15 (2015).\n",
      "\n",
      "CJEU, Weltimmo s.r.o./Nemzeti Adatvédelmi és Információszabadság Hatóság, C-230/14 (2015).\n",
      "\n",
      "CJEU, Unabhängiges Landeszentrum für Datenschutz Schleswig-Holstein/Wirtschaftsakademie Schleswig-Holstein\n",
      "GmbH, C-210/16 (2018).' metadata={'article_number': 3, 'article_summary': 'Territorial scope: Defines the geographical scope of the GDPR, applying to organizations based in the EU and those outside the EU that offer goods or services to, or monitor the behavior of, EU data subjects.\\n'}\n",
      "DEBUG:engine.chatbot:Found relevant document:\n",
      " page_content='General Data Protection Regulation (EU GDPR)\n",
      "\n",
      "The latest consolidated version of the Regulation with corrections by Corrigendum, OJ L 127, 23.5.2018, p. 2\n",
      "((EU) 2016/679). Source: EUR-lex.Related information Article 17. Right to erasure (‘right to be\n",
      "\n",
      "forgotten’)\n",
      "\n",
      "Recitals' metadata={'article_number': 17, 'article_summary': \"Right to erasure ('right to be forgotten'): Allows data subjects to have their personal data erased under certain conditions, such as when the data is no longer necessary for its original purpose.\\n\"}\n",
      "DEBUG:engine.chatbot:Found relevant document:\n",
      " page_content='General Data Protection Regulation (EU GDPR)\n",
      "\n",
      "The latest consolidated version of the Regulation with corrections by Corrigendum, OJ L 127, 23.5.2018, p. 2\n",
      "((EU) 2016/679). Source: EUR-lex.Related information Article 2. Material scope\n",
      "\n",
      "Recitals\n",
      "\n",
      "(14) The protection afforded by this Regulation should apply to natural persons, whatever their nationality or place of\n",
      "residence, in relation to the processing of their personal data. This Regulation does not cover the processing of\n",
      "personal data which concerns legal persons and in particular undertakings established as legal persons, including the\n",
      "name and the form of the legal person and the contact details of the legal person.' metadata={'article_number': 2, 'article_summary': \"Material scope: Specifies the data processing activities that fall under the GDPR, including processing in the context of EU member states' activities, regardless of whether the processing occurs in the EU or not.\\n\"}\n",
      "DEBUG:engine.chatbot:Found relevant document:\n",
      " page_content='General Data Protection Regulation (EU GDPR)\n",
      "\n",
      "The latest consolidated version of the Regulation with corrections by Corrigendum, OJ L 127, 23.5.2018, p. 2\n",
      "((EU) 2016/679). Source: EUR-lex.Related information Article 3. Territorial scope\n",
      "\n",
      "Recitals\n",
      "\n",
      "(22) Any processing of personal data in the context of the activities of an establishment of a controller or a processor\n",
      "in the Union should be carried out in accordance with this Regulation, regardless of whether the processing itself\n",
      "takes place within the Union. Establishment implies the effective and real exercise of activity through stable\n",
      "arrangements. The legal form of such arrangements, whether through a branch or a subsidiary with a legal\n",
      "personality, is not the determining factor in that respect.' metadata={'article_number': 3, 'article_summary': 'Territorial scope: Defines the geographical scope of the GDPR, applying to organizations based in the EU and those outside the EU that offer goods or services to, or monitor the behavior of, EU data subjects.\\n'}\n"
     ]
    }
   ],
   "source": [
    "question = \"What is the main differences between GDPR and US Data Privacy Laws?\"\n",
    "response = bot.respond(question)"
   ]
  },
  {
   "cell_type": "code",
   "execution_count": 13,
   "metadata": {},
   "outputs": [
    {
     "name": "stdout",
     "output_type": "stream",
     "text": [
      "I don't know.\n"
     ]
    }
   ],
   "source": [
    "print(response)"
   ]
  },
  {
   "cell_type": "markdown",
   "metadata": {},
   "source": [
    "### Question 4"
   ]
  },
  {
   "cell_type": "code",
   "execution_count": 10,
   "metadata": {},
   "outputs": [
    {
     "name": "stderr",
     "output_type": "stream",
     "text": [
      "DEBUG:engine.chatbot:Found relevant document:\n",
      " page_content='parties or organisations, churches or parishes. Trade union membership may be revealed by the deduction of an annual\n",
      "\n",
      "membership fee from a person’s bank account. Personal data concerning health may be gathered from analysing medical bills\n",
      "\n",
      "paid by a data subject. Finally, information on certain purchases may reveal information concerning a person’s sex life or\n",
      "\n",
      "sexual orientation.\n",
      "\n",
      "Moreover, through the sum of financial transactions, different kinds of behavioural patterns could be revealed, including\n",
      "\n",
      "special categories of personal data and additional services that are facilitated by account information services might rely on\n",
      "\n",
      "profiling as defined by article 4 (4) of the GDPR. Therefore, the chances are considerable that a service provider processing\n",
      "\n",
      "information on financial transactions of data subjects also processes special categories of personal data.\n",
      "\n",
      "2. Paragraph 1 shall not apply if one of the following applies:\n",
      "\n",
      "Recitals' metadata={'article_number': 9, 'article_summary': 'Processing of special categories of personal data: Prohibits processing of sensitive data (e.g., racial or ethnic origin, political opinions, religious beliefs) unless specific conditions are met, such as explicit consent or necessity for certain legal purposes.\\n'}\n",
      "DEBUG:engine.chatbot:Found relevant document:\n",
      " page_content='General Data Protection Regulation (EU GDPR)\n",
      "\n",
      "The latest consolidated version of the Regulation with corrections by Corrigendum, OJ L 127, 23.5.2018, p. 2\n",
      "((EU) 2016/679). Source: EUR-lex.Related information Article 11. Processing which does not require\n",
      "\n",
      "identification\n",
      "\n",
      "Recitals\n",
      "\n",
      "(57) If the personal data processed by a controller do not permit the controller to identify a natural person, the data\n",
      "controller should not be obliged to acquire additional information in order to identify the data subject for the sole\n",
      "purpose of complying with any provision of this Regulation. However, the controller should not refuse to take\n",
      "additional information provided by the data subject in order to support the exercise of his or her rights. Identification\n",
      "should include the digital identification of a data subject, for example through authentication mechanism such as the\n",
      "same credentials, used by the data subject to log-in to the on-line service offered by the data controller.' metadata={'article_number': 11, 'article_summary': \"Processing which does not require identification: Covers processing of data that doesn't require the identification of a data subject, setting limitations and obligations for controllers in such cases.\\n\"}\n",
      "DEBUG:engine.chatbot:Found relevant document:\n",
      " page_content='Recitals\n",
      "\n",
      "Guidelines & Case Law\n",
      "\n",
      "EDPB, Guidelines 2/2019 on the Processing of Personal Data under Article 6(1)(b) GDPR in the Context of the Provision of Online\n",
      "\n",
      "Services to Data Subjects (2019).\n",
      "\n",
      "EDPB, Guidelines 06/2020 on the interplay of the Second Payment Services Directive and the GDPR (2020).\n",
      "\n",
      "Payment services are always provided on a contractual basis between the payment services user and the payment services\n",
      "\n",
      "provider.\n",
      "\n",
      "Controllers have to assess what processing of personal data is objectively necessary to perform the contract. Justification of thenecessity is dependent on:\n",
      "\n",
      "the nature of the service;\n",
      "\n",
      "the mutual perspectives and expectations of the parties to the contract;\n",
      "\n",
      "the rationale of the contract; and\n",
      "\n",
      "the essential elements of the contract.\n",
      "\n",
      "The controller should be able to demonstrate how the main object of the specific contract with the data subject cannot be' metadata={'article_number': 6, 'article_summary': 'Lawfulness of processing: Specifies the lawful bases for processing personal data, such as consent, contract necessity, legal obligation, vital interests, public task, and legitimate interests.\\n'}\n",
      "DEBUG:engine.chatbot:Found relevant document:\n",
      " page_content='them”.\n",
      "\n",
      "EDPB, Guidelines 3/2019 on Processing of Personal Data through Video Devices (2020).\n",
      "\n",
      "Data Protection Commission (Ireland), Data Protection Considerations Relating to Receivership (2020).\n",
      "\n",
      "EDPB, Guidelines 06/2020 on the interplay of the Second Payment Services Directive and the GDPR (2020).The GDPR may allow for the processing of silent party data when this processing is necessary for purposes of the legitimate\n",
      "\n",
      "interests pursued by a controller or by a third party.\n",
      "\n",
      "A lawful basis for the processing of silent party data by PISPs and AISPs – in the context of the provision of payment services\n",
      "\n",
      "under the PSD2 – could thus be the legitimate interest of a controller or a third party to perform the contract with the payment\n",
      "\n",
      "service user. The necessity to process personal data of the silent party is limited and determined by the reasonable expectations\n",
      "\n",
      "of these data subjects.' metadata={'article_number': 6, 'article_summary': 'Lawfulness of processing: Specifies the lawful bases for processing personal data, such as consent, contract necessity, legal obligation, vital interests, public task, and legitimate interests.\\n'}\n"
     ]
    }
   ],
   "source": [
    "question = \"What are the additional GDPR requirements for financial institutions?\"\n",
    "response = bot.respond(question)"
   ]
  },
  {
   "cell_type": "code",
   "execution_count": 11,
   "metadata": {},
   "outputs": [
    {
     "name": "stdout",
     "output_type": "stream",
     "text": [
      "Financial institutions processing personal data are subject to the same GDPR requirements as other organizations. However, due to the nature of the data they handle, such as financial transactions and potentially special categories of personal data, they may have additional obligations to ensure the security and confidentiality of this sensitive information. Financial institutions must also comply with sector-specific regulations and guidelines, such as those related to payment services and the processing of financial data.\n"
     ]
    }
   ],
   "source": [
    "print(response)"
   ]
  },
  {
   "cell_type": "markdown",
   "metadata": {},
   "source": [
    "### Question 5"
   ]
  },
  {
   "cell_type": "code",
   "execution_count": 14,
   "metadata": {},
   "outputs": [
    {
     "name": "stderr",
     "output_type": "stream",
     "text": [
      "DEBUG:engine.chatbot:Found relevant document:\n",
      " page_content='– “Integrity breach” – where there is an unauthorised or accidental alteration of personal data.\n",
      "\n",
      "– “Availability breach” – where there is an accidental or unauthorised loss of access to, or destruction of, personal data.\n",
      "\n",
      "(13) ‘genetic data’ means personal data relating to the inherited or acquired genetic characteristics of a natural\n",
      "person which give unique information about the physiology or the health of that natural person and which result, in\n",
      "particular, from an analysis of a biological sample from the natural person in question;\n",
      "\n",
      "(34) Genetic data should be defined as personal data relating to the inherited or acquired genetic characteristics of a natural person\n",
      "\n",
      "Recitalswhich result from the analysis of a biological sample from the natural person in question,\n",
      "\n",
      "in particular chromosomal,\n",
      "\n",
      "deoxyribonucleic acid (DNA) or ribonucleic acid (RNA) analysis, or from the analysis of another element enabling equivalent\n",
      "\n",
      "information to be obtained.\n",
      "\n",
      "Guidelines & Case Law' metadata={'article_number': 4, 'article_summary': \"Definitions: Provides definitions for key terms used in the regulation, such as 'personal data', 'processing', 'controller', and 'processor'.\\n\"}\n",
      "DEBUG:engine.chatbot:Found relevant document:\n",
      " page_content='Document\n",
      "\n",
      "EDPB, Guidelines 5/2020 on Consent under Regulation 2016/679 (2020).\n",
      "\n",
      "Case law\n",
      "\n",
      "CJEU, Schwarz/Stadt Bochum, C-291/12 (2013).\n",
      "\n",
      "CJEU, Bundesverband der Verbraucherzentralen und Verbraucherverbände — Verbraucherzentrale Bundesverband eV/Planet49\n",
      "\n",
      "GmbH, C‑673/17 (2019).\n",
      "\n",
      "(12) ‘personal data breach’ means a breach of security leading to the accidental or unlawful destruction, loss,\n",
      "alteration, unauthorised disclosure of, or access to, personal data transmitted, stored or otherwise processed;\n",
      "\n",
      "Guidelines & Case Law\n",
      "\n",
      "Article 29 Working Party, Guidelines on Personal Data Breach Notification Under Regulation 2016/679 (2018):\n",
      "\n",
      "In its Opinion 03/2014 on breach notification, WP29 explained that breaches can be categorised according to the following\n",
      "\n",
      "three well-known information security principles:\n",
      "\n",
      "– “Confidentiality breach” – where there is an unauthorised or accidental disclosure of, or access to, personal data.' metadata={'article_number': 4, 'article_summary': \"Definitions: Provides definitions for key terms used in the regulation, such as 'personal data', 'processing', 'controller', and 'processor'.\\n\"}\n",
      "DEBUG:engine.chatbot:Found relevant document:\n",
      " page_content='opening, transmitting, deleting or simply storing personal data that you have unintentionally acquired will bring the GDPR\n",
      "into play.\n",
      "\n",
      "DPC (Ireland), Guidance for Individuals who Accidentally Receive Personal data (2020).\n",
      "\n",
      "Case Law\n",
      "\n",
      "CJEC, Tietosuojavaltuutettu/Satakunnan Markkinapörssi Oy and Satamedia Oy, C-73/07 (2008).\n",
      "\n",
      "CJEC, Lindqvist, C-101/01 (2003).\n",
      "\n",
      "CJEU, Schwarz/Stadt Bochum, C-291/12 (2013).CJEU, La Quadrature du Net et al./Premier ministre et al., C-511/18, C-512/18, C-520/18 (2020).\n",
      "\n",
      "CJEU, Privacy International/Secretary of State for Foreign and Commonwealth Affairs, C-623/17 (2020).\n",
      "\n",
      "(3) ‘restriction of processing’ means the marking of stored personal data with the aim of limiting their processing\n",
      "in the future;' metadata={'article_number': 4, 'article_summary': \"Definitions: Provides definitions for key terms used in the regulation, such as 'personal data', 'processing', 'controller', and 'processor'.\\n\"}\n",
      "DEBUG:engine.chatbot:Found relevant document:\n",
      " page_content='personal data, including for preventing unauthorised access to or use of personal data and the equipment used for the\n",
      "processing.\n",
      "\n",
      "Guidelines & Case Law\n",
      "\n",
      "Documents\n",
      "\n",
      "ICO, Accountability Framework \n",
      "\n",
      "WP29, Opinion on data processing at work (2017).\n",
      "\n",
      "EDPB, Guidelines 3/2019 on Processing of Personal Data through Video Devices (2020).DPC (Ireland), Guidance for Individuals who Accidentally Receive Personal data (2020).\n",
      "\n",
      "EDPB, Guidelines 02/2021 on Virtual Voice Assistants (2021).\n",
      "\n",
      "Case Law\n",
      "\n",
      "ECHR, López Ribalda v. Spain, nos 1874/13 and 8567/13 (2019).\n",
      "\n",
      "Belgian DPA Fines Belgian Telecommunications Provider for Several Data Protection Infringements, (2020) – brief\n",
      "description in English.\n",
      "\n",
      "Norwegian DPA, Issues fine to Aquateknikk AS (2021).\n",
      "\n",
      "Norwegian DPA, Intention to issue € 10 million fine to Grindr LLC (2021).' metadata={'article_number': 5, 'article_summary': 'Principles relating to processing of personal data: Lists the core principles for processing personal data, including lawfulness, fairness, transparency, purpose limitation, data minimization, accuracy, storage limitation, integrity, and confidentiality.\\n'}\n"
     ]
    }
   ],
   "source": [
    "question = \"What is a breach of personal data?\"\n",
    "response = bot.respond(question)"
   ]
  },
  {
   "cell_type": "code",
   "execution_count": 15,
   "metadata": {},
   "outputs": [
    {
     "name": "stdout",
     "output_type": "stream",
     "text": [
      "A breach of personal data, as defined in the GDPR, refers to a breach of security leading to the accidental or unlawful destruction, loss, alteration, unauthorized disclosure of, or access to personal data. This can include breaches such as unauthorized access to personal data, accidental deletion of data, or any other incident that compromises the security and integrity of personal data.\n"
     ]
    }
   ],
   "source": [
    "print(response)"
   ]
  },
  {
   "cell_type": "markdown",
   "metadata": {},
   "source": [
    "### Question 6"
   ]
  },
  {
   "cell_type": "code",
   "execution_count": 16,
   "metadata": {},
   "outputs": [
    {
     "name": "stderr",
     "output_type": "stream",
     "text": [
      "DEBUG:engine.chatbot:Found relevant document:\n",
      " page_content='Consent should cover all processing activities carried out for the same purpose or purposes. When the processing has multiple\n",
      "\n",
      "purposes, consent should be given for all of them. If the data subject's consent is to be given following a request by electronic means,\n",
      "\n",
      "the request must be clear, concise and not unnecessarily disruptive to the use of the service for which it is provided.\n",
      "\n",
      "(33) It is often not possible to fully identify the purpose of personal data processing for scientific research purposes at the time of\n",
      "\n",
      "data collection. Therefore, data subjects should be allowed to give their consent to certain areas of scientific research when in\n",
      "\n",
      "keeping with recognised ethical standards for scientific research. Data subjects should have the opportunity to give their consent onlyto certain areas of research or parts of research projects to the extent allowed by the intended purpose.\n",
      "\n",
      "Guidelines & Case Law\n",
      "\n",
      "Document\n",
      "\n",
      "EDPB, Guidelines 5/2020 on Consent under Regulation 2016/679 (2020).' metadata={'article_number': 4, 'article_summary': \"Definitions: Provides definitions for key terms used in the regulation, such as 'personal data', 'processing', 'controller', and 'processor'.\\n\"}\n",
      "DEBUG:engine.chatbot:Found relevant document:\n",
      " page_content='(33) It is often not possible to fully identify the purpose of personal data processing for scientific research purposes\n",
      "at the time of data collection. Therefore, data subjects should be allowed to give their consent to certain areas of\n",
      "scientific research when in keeping with recognised ethical standards for scientific research. Data subjects should\n",
      "have the opportunity to give their consent only to certain areas of research or parts of research projects to the extent\n",
      "allowed by the intended purpose.\n",
      "\n",
      "(42) Where processing is based on the data subject's consent, the controller should be able to demonstrate that the\n",
      "data subject has given consent to the processing operation. In particular in the context of a written declaration on' metadata={'article_number': 7, 'article_summary': 'Conditions for consent: Details the conditions for obtaining valid consent from data subjects, emphasizing that consent must be freely given, specific, informed, and unambiguous.\\n'}\n",
      "DEBUG:engine.chatbot:Found relevant document:\n",
      " page_content='1. Processing shall be lawful only if and to the extent that at least one of the following applies:\n",
      "\n",
      "(a) the data subject has given consent to the processing of his or her personal data for one or more specific\n",
      "purposes;\n",
      "\n",
      "Guidelines & Case Law\n",
      "\n",
      "WP29, Guidelines on consent under Regulation 2016/679 (2018).\n",
      "\n",
      "EDPB, Guidelines 8/2020 on the targeting of social media users (2020).\n",
      "\n",
      "EDPB, Guidelines 3/2020 on the Processing of Data Concerning Health for the Purpose of Scientific Research in the Context of the\n",
      "\n",
      "Covid-19 Outbreak (2020).\n",
      "\n",
      "EDPB, Guidelines 3/2019 on Processing of Personal Data through Video Devices (2020).\n",
      "\n",
      "(b) processing is necessary for the performance of a contract to which the data subject is party or in order to take\n",
      "steps at the request of the data subject prior to entering into a contract;\n",
      "\n",
      "(44) Processing should be lawful where it is necessary in the context of a contract or the intention to enter into a contract.\n",
      "\n",
      "Recitals\n",
      "\n",
      "Guidelines & Case Law' metadata={'article_number': 6, 'article_summary': 'Lawfulness of processing: Specifies the lawful bases for processing personal data, such as consent, contract necessity, legal obligation, vital interests, public task, and legitimate interests.\\n'}\n",
      "DEBUG:engine.chatbot:Found relevant document:\n",
      " page_content='In this context, the only available legal ground that would legitimize the data processing would be explicit,\n",
      "separate prior opt-in consent. The requirement for a separate, affirmative prior indication of the data\n",
      "subjects’ agreement means that in no case would an opt-out consent mechanism meet the requirement of the\n",
      "law. It also means that such consent could not be obtained through browser settings. To lawfully collect\n",
      "and process this type of information, ad network providers would have to set up mechanisms to obtain explicit\n",
      "prior consent, separate from other consent obtained for processing in general.\n",
      "\n",
      "EDPB, Assessing the Necessity of Measures That Limit the Fundamental Right to the Protection of Personal Data: A\n",
      "Toolkit (2017).\n",
      "\n",
      "WP29, Opinion on data processing at work (2017).' metadata={'article_number': 9, 'article_summary': 'Processing of special categories of personal data: Prohibits processing of sensitive data (e.g., racial or ethnic origin, political opinions, religious beliefs) unless specific conditions are met, such as explicit consent or necessity for certain legal purposes.\\n'}\n"
     ]
    }
   ],
   "source": [
    "question = \"Let's say I want to do a research and I need to process personal data, how to get a consent from data subjects?\"\n",
    "response = bot.respond(question)"
   ]
  },
  {
   "cell_type": "code",
   "execution_count": 17,
   "metadata": {},
   "outputs": [
    {
     "name": "stdout",
     "output_type": "stream",
     "text": [
      "When obtaining consent from data subjects for research purposes, it is important to ensure that the consent process complies with the GDPR requirements. The consent should cover all processing activities carried out for the research purposes and should be given for all of them. If the data subject's consent is to be given following a request by electronic means, the request must be clear, concise, and not unnecessarily disruptive to the use of the service for which it is provided.\n",
      "\n",
      "In the context of scientific research, where it may not be possible to fully identify the purpose of personal data processing at the time of data collection, data subjects should be allowed to give their consent to certain areas of research in line with recognized ethical standards. Data subjects should have the opportunity to give their consent only to certain areas of research or parts of research projects to the extent allowed by the intended purpose.\n",
      "\n",
      "It is essential to clearly explain to data subjects the purpose of the research, the types of data being collected, how the data will be used, and their rights regarding their personal data. Consent should be obtained through a clear affirmative action, and data subjects should have the ability to withdraw their consent at any time. Additionally, the controller should be able to demonstrate that the data subject has given consent to the processing operation, particularly in the context of a written declaration.\n"
     ]
    }
   ],
   "source": [
    "print(response)"
   ]
  },
  {
   "cell_type": "markdown",
   "metadata": {},
   "source": [
    "### Question 7"
   ]
  },
  {
   "cell_type": "code",
   "execution_count": 18,
   "metadata": {},
   "outputs": [
    {
     "name": "stderr",
     "output_type": "stream",
     "text": [
      "DEBUG:engine.chatbot:Found relevant document:\n",
      " page_content='1. The data subject shall have the right to obtain from the controller the erasure of personal data concerning him or\n",
      "her without undue delay and the controller shall have the obligation to erase personal data without undue delay\n",
      "where one of the following grounds applies:\n",
      "\n",
      "(a) the personal data are no longer necessary in relation to the purposes for which they were collected or otherwise\n",
      "processed;\n",
      "\n",
      "(b) the data subject withdraws consent on which the processing is based according to point (a) of Article 6(1), or\n",
      "point (a) of Article 9(2), and where there is no other legal ground for the processing;\n",
      "\n",
      "(c) the data subject objects to the processing pursuant to Article 21(1) and there are no overriding legitimate\n",
      "grounds for the processing, or the data subject objects to the processing pursuant to Article 21(2);\n",
      "\n",
      "(d) the personal data have been unlawfully processed;' metadata={'article_number': 17, 'article_summary': \"Right to erasure ('right to be forgotten'): Allows data subjects to have their personal data erased under certain conditions, such as when the data is no longer necessary for its original purpose.\\n\"}\n",
      "DEBUG:engine.chatbot:Found relevant document:\n",
      " page_content='(65) A data subject should have the right to have personal data concerning him or her rectified and a ‘right to be\n",
      "forgotten’ where the retention of such data infringes this Regulation or Union or Member State law to which the\n",
      "controller is subject. In particular, a data subject should have the right to have his or her personal data erased and no\n",
      "longer processed where the personal data are no longer necessary in relation to the purposes for which they are\n",
      "collected or otherwise processed, where a data subject has withdrawn his or her consent or objects to the processing\n",
      "of personal data concerning him or her, or where the processing of his or her personal data does not otherwise comply\n",
      "with this Regulation. That right is relevant in particular where the data subject has given his or her consent as a child\n",
      "and is not fully aware of the risks involved by the processing, and later wants to remove such personal data, especially\n",
      "on the internet. The data subject should be able to exercise that right notwithstanding the fact that he or she is no\n",
      "longer a child. However, the further retention of the personal data should be lawful where it is necessary, for\n",
      "exercising the right of freedom of expression and information, for compliance with a legal obligation, for the\n",
      "performance of a task carried out in the public interest or in the exercise of official authority vested in the controller,\n",
      "on the grounds of public interest in the area of public health, for archiving purposes in the public interest, scientific\n",
      "or historical research purposes or statistical purposes, or for the establishment, exercise or defence of legal claims.' metadata={'article_number': 17, 'article_summary': \"Right to erasure ('right to be forgotten'): Allows data subjects to have their personal data erased under certain conditions, such as when the data is no longer necessary for its original purpose.\\n\"}\n",
      "DEBUG:engine.chatbot:Found relevant document:\n",
      " page_content='considerations like the incubation period,etc.) and personal data should be kept only for the duration of the COVID-19 crisis.\n",
      "\n",
      "Afterwards,as a general rule,all personal data should be erased or anonymised.\n",
      "\n",
      "(b) the existence of the right to request from the controller access to and rectification or erasure of personal data\n",
      "or restriction of processing concerning the data subject or to object to processing as well as the right to data\n",
      "portability;\n",
      "\n",
      "Guidelines & Case Law\n",
      "\n",
      "Article 29 Working Party, Guidelines on transparency under Regulation 2016/679, WP260 rev.01 (2016):\n",
      "\n",
      "This information should be specific to the processing scenario and include a summary of what the right involves and how the\n",
      "\n",
      "data subject can take steps to exercise it and any limitations on the right. […] In particular, the right to object to processing\n",
      "\n",
      "must be explicitly brought to the data subject’s attention at the latest at the time of first communication with the data subject' metadata={'article_number': 13, 'article_summary': 'Information to be provided where personal data are collected from the data subject: Details the information that must be provided to data subjects when their data is collected directly, including the purpose of processing and the data retention period.\\n'}\n",
      "DEBUG:engine.chatbot:Found relevant document:\n",
      " page_content='6. Where personal data are processed for scientific or historical research purposes or statistical purposes pursuant\n",
      "to Article 89(1), the data subject, on grounds relating to his or her particular situation, shall have the right to object\n",
      "to processing of personal data concerning him or her, unless the processing is necessary for the performance of a\n",
      "task carried out for reasons of public interest.\n",
      "\n",
      "General Data Protection Regulation (EU GDPR)\n",
      "\n",
      "The latest consolidated version of the Regulation with corrections by Corrigendum, OJ L 127, 23.5.2018, p. 2\n",
      "((EU) 2016/679). Source: EUR-lex.Related information Article 21. Right to object\n",
      "\n",
      "Data Subject Request Letter Sample\n",
      "\n",
      "Author\n",
      "\n",
      "Expert commentary\n",
      "\n",
      "Concern: Request to stop processing my personal data\n",
      "\n",
      "Dear Madam, Dear Sir,\n",
      "\n",
      "You have data concerning me that I am asking you to stop processing.' metadata={'article_number': 21, 'article_summary': 'Right to object: Gives data subjects the right to object to the processing of their personal data based on certain grounds, including processing for direct marketing, research, or based on a public or legitimate interest.'}\n"
     ]
    }
   ],
   "source": [
    "question = \"Do I always need to remove data when data subject asks to remove his data?\"\n",
    "response = bot.respond(question)"
   ]
  },
  {
   "cell_type": "code",
   "execution_count": 19,
   "metadata": {},
   "outputs": [
    {
     "name": "stdout",
     "output_type": "stream",
     "text": [
      "In certain circumstances, you are obligated to remove personal data when a data subject requests its erasure. According to the GDPR, the data subject has the right to obtain from the controller the erasure of personal data concerning them without undue delay in specific situations. These situations include when the personal data are no longer necessary for the purposes for which they were collected, when the data subject withdraws consent and there is no other legal ground for processing, when the data subject objects to the processing and there are no overriding legitimate grounds, or when the personal data have been unlawfully processed.\n",
      "\n",
      "However, there are exceptions to this right to erasure. For example, if the processing of personal data is necessary for exercising the right of freedom of expression and information, for compliance with a legal obligation, for the performance of a task carried out in the public interest, for archiving purposes in the public interest, scientific or historical research purposes, or for the establishment, exercise, or defense of legal claims, then the data may not need to be erased.\n",
      "\n",
      "Therefore, while you generally need to remove data when a data subject requests its erasure, there are circumstances where you may be able to retain the data based on legal grounds or exemptions outlined in the GDPR.\n"
     ]
    }
   ],
   "source": [
    "print(response)"
   ]
  },
  {
   "cell_type": "markdown",
   "metadata": {},
   "source": [
    "### Question 8"
   ]
  },
  {
   "cell_type": "code",
   "execution_count": 20,
   "metadata": {},
   "outputs": [
    {
     "name": "stderr",
     "output_type": "stream",
     "text": [
      "DEBUG:engine.chatbot:Found relevant document:\n",
      " page_content='Processing of personal data relating to criminal convictions and offences or related security measures based on\n",
      "Article 6(1) shall be carried out only under the control of official authority or when the processing is authorised by\n",
      "Union or Member State law providing for appropriate safeguards for the rights and freedoms of data subjects. Any\n",
      "comprehensive register of criminal convictions shall be kept only under the control of official authority.\n",
      "\n",
      "General Data Protection Regulation (EU GDPR)\n",
      "\n",
      "The latest consolidated version of the Regulation with corrections by Corrigendum, OJ L 127, 23.5.2018, p. 2\n",
      "((EU) 2016/679). Source: EUR-lex.Related information Article 10. Processing of personal data relating\n",
      "\n",
      "to criminal convictions and offences\n",
      "\n",
      "Legislation\n",
      "\n",
      "Guidelines & Case Law' metadata={'article_number': 10, 'article_summary': 'Processing of personal data relating to criminal convictions and offences: States that processing personal data related to criminal convictions and offences requires a legal basis under EU or member state law.\\n'}\n",
      "DEBUG:engine.chatbot:Found relevant document:\n",
      " page_content='to criminal convictions and offences\n",
      "\n",
      "Legislation\n",
      "\n",
      "Guidelines & Case Law\n",
      "\n",
      "Directive (EU) 2016/680 on the protection of natural persons with regard to the processing of personal data by\n",
      "competent authorities for the purposes of the prevention, investigation, detection or prosecution of criminal offences or\n",
      "the execution of criminal penalties, and on the free movement of such data, OJEU L 119, 4 May 2016, p. 89.' metadata={'article_number': 10, 'article_summary': 'Processing of personal data relating to criminal convictions and offences: States that processing personal data related to criminal convictions and offences requires a legal basis under EU or member state law.\\n'}\n",
      "DEBUG:engine.chatbot:Found relevant document:\n",
      " page_content='important interests including public security and the prevention, investigation, detection or prosecution of criminal offences or the\n",
      "\n",
      "execution of criminal penalties, including the safeguarding against and the prevention of threats to public security. This is relevant for\n",
      "\n",
      "instance in the framework of anti-money laundering or the activities of forensic laboratories. \n",
      "\n",
      "[7] Directive (EU) 2016/680 of the European Parliament and of the Council of 27 April 2016 on the protection of natural persons\n",
      "\n",
      "with regard to the processing of personal data by competent authorities for the purposes of prevention, investigation, detection or\n",
      "\n",
      "prosecution of criminal offences or the execution of criminal penalties, and the free movement of such data and repealing Council\n",
      "\n",
      "Framework Decision 2008/977/JHA (see page 89 of this Official Journal).' metadata={'article_number': 2, 'article_summary': \"Material scope: Specifies the data processing activities that fall under the GDPR, including processing in the context of EU member states' activities, regardless of whether the processing occurs in the EU or not.\\n\"}\n",
      "DEBUG:engine.chatbot:Found relevant document:\n",
      " page_content='the processing of personal data by those competent authorities for those other purposes, taking into account the\n",
      "constitutional, organisational and administrative structure of the respective Member State. When the processing of\n",
      "personal data by private bodies falls within the scope of this Regulation, this Regulation should provide for the\n",
      "possibility for Member States under specific conditions to restrict by law certain obligations and rights when such a\n",
      "restriction constitutes a necessary and proportionate measure in a democratic society to safeguard specific important\n",
      "interests including public security and the prevention, investigation, detection or prosecution of criminal offences or\n",
      "the execution of criminal penalties, including the safeguarding against and the prevention of threats to public security.\n",
      "This is relevant for instance in the framework of anti-money laundering or the activities of forensic laboratories.' metadata={'article_number': 2, 'article_summary': \"Material scope: Specifies the data processing activities that fall under the GDPR, including processing in the context of EU member states' activities, regardless of whether the processing occurs in the EU or not.\\n\"}\n"
     ]
    }
   ],
   "source": [
    "question = \"When it comes to crimes, is the authority required to get a permission to process data from the convicted person?\"\n",
    "response = bot.respond(question)"
   ]
  },
  {
   "cell_type": "code",
   "execution_count": 21,
   "metadata": {},
   "outputs": [
    {
     "name": "stdout",
     "output_type": "stream",
     "text": [
      "Processing of personal data relating to criminal convictions and offences or related security measures must be carried out under the control of official authority or when authorized by Union or Member State law providing appropriate safeguards for the rights and freedoms of data subjects. In the context of crimes, the authority processing such data does not necessarily need permission from the convicted person, as the processing is typically carried out for specific legal purposes related to the prevention, investigation, detection, or prosecution of criminal offenses. However, the processing must be in accordance with the relevant laws and regulations that provide safeguards for the rights of data subjects.\n"
     ]
    }
   ],
   "source": [
    "print(response)"
   ]
  },
  {
   "cell_type": "markdown",
   "metadata": {},
   "source": [
    "### Question 9"
   ]
  },
  {
   "cell_type": "code",
   "execution_count": 22,
   "metadata": {},
   "outputs": [
    {
     "name": "stderr",
     "output_type": "stream",
     "text": [
      "DEBUG:engine.chatbot:Found relevant document:\n",
      " page_content='The duration of the restriction is also unclear. The European legal texts\n",
      "mention that data must not be processed “for a period enabling the controller\n",
      "to verify [their] accuracy”, for example, or “pending the verification” whether\n",
      "exists a legitimate ground overriding a person’s objection to processing. The\n",
      "time during which data cannot be processed will be a question of facts or of\n",
      "individual situations. One thing is clear though: a person must be informed\n",
      "before the restriction of processing is lifted.\n",
      "\n",
      "Data Subject Request Letter Sample\n",
      "\n",
      "Author\n",
      "\n",
      "Expert commentary\n",
      "\n",
      "Concern: Request to restrict the processing of my personal data\n",
      "\n",
      "Dear Madam, Dear Sir,\n",
      "\n",
      "I am entitled to ask you to restrict the processing of my personal data under\n",
      "Article 18(1) of the General Data Protection Regulation (GDPR).' metadata={'article_number': 18, 'article_summary': 'Right to restriction of processing: Provides data subjects the right to restrict processing of their data under certain circumstances, such as when the accuracy of the data is contested.\\n'}\n",
      "DEBUG:engine.chatbot:Found relevant document:\n",
      " page_content='Dear Madam, Dear Sir,\n",
      "\n",
      "You have data concerning me that I am asking you to stop processing.\n",
      "\n",
      "Pursuant to Article 21(1) of the General Data Protection Regulation (GDPR),\n",
      "please stop processing my personal data [to perform a task carried out in the\n",
      "public interest, according to Article 6(1)(e) of the GDPR] [based on a\n",
      "legitimate interest, according to Article 6(1)(f) of the GDPR].\n",
      "\n",
      "Louis-Philippe Gratton\n",
      "\n",
      "  PhD, LLM\n",
      "\n",
      "  Privacy Expert\n",
      "\n",
      "In consequence, I ask you to delete my personal data and notify every\n",
      "recipient to whom you have disclosed my personal data, pursuant to Articles\n",
      "17(1)(c) and 19 of the GDPR.\n",
      "\n",
      "Thank you for confirming as soon as possible that you stop processing my\n",
      "personal data, and in any event within one month of the receipt of my\n",
      "request, according to Article 12(3) of the GDPR.\n",
      "\n",
      "In the absence of any action taken upon my request in a timely manner, I\n",
      "reserve my right to lodge a complaint with the relevant supervisory authority\n",
      "and seek judicial remedy.\n",
      "\n",
      "Sincerely,' metadata={'article_number': 21, 'article_summary': 'Right to object: Gives data subjects the right to object to the processing of their personal data based on certain grounds, including processing for direct marketing, research, or based on a public or legitimate interest.'}\n",
      "DEBUG:engine.chatbot:Found relevant document:\n",
      " page_content='6. Where personal data are processed for scientific or historical research purposes or statistical purposes pursuant\n",
      "to Article 89(1), the data subject, on grounds relating to his or her particular situation, shall have the right to object\n",
      "to processing of personal data concerning him or her, unless the processing is necessary for the performance of a\n",
      "task carried out for reasons of public interest.\n",
      "\n",
      "General Data Protection Regulation (EU GDPR)\n",
      "\n",
      "The latest consolidated version of the Regulation with corrections by Corrigendum, OJ L 127, 23.5.2018, p. 2\n",
      "((EU) 2016/679). Source: EUR-lex.Related information Article 21. Right to object\n",
      "\n",
      "Data Subject Request Letter Sample\n",
      "\n",
      "Author\n",
      "\n",
      "Expert commentary\n",
      "\n",
      "Concern: Request to stop processing my personal data\n",
      "\n",
      "Dear Madam, Dear Sir,\n",
      "\n",
      "You have data concerning me that I am asking you to stop processing.' metadata={'article_number': 21, 'article_summary': 'Right to object: Gives data subjects the right to object to the processing of their personal data based on certain grounds, including processing for direct marketing, research, or based on a public or legitimate interest.'}\n",
      "DEBUG:engine.chatbot:Found relevant document:\n",
      " page_content='Data Subject Request Letter Sample\n",
      "Data Subject Request Letter Sample\n",
      "\n",
      "Author\n",
      "Author\n",
      "\n",
      "Expert commentary\n",
      "Expert commentary\n",
      "\n",
      "Concern: Exercise my right to data portability\n",
      "Concern: Exercise my right to data portability\n",
      "\n",
      "Dear Madam, Dear Sir,\n",
      "Dear Madam, Dear Sir,\n",
      "\n",
      "I would like to exercise my right to data portability under Article 20 of the\n",
      "I would like to exercise my right to data portability under Article 20 of the\n",
      "General Data Protection Regulation (GDPR).\n",
      "General Data Protection Regulation (GDPR).I would like to obtain a copy of all my personal data [in a structured,\n",
      "commonly used and machine-readable format] [transferred to XXX].\n",
      "\n",
      "Louis-Philippe Gratton\n",
      "\n",
      "  PhD, LLM\n",
      "\n",
      "  Privacy Expert\n",
      "\n",
      "Personal data requested include information I have provided to your\n",
      "[company | organization | etc.] and information that your [company |\n",
      "organization | etc.] has gathered by monitoring my activity while using your\n",
      "[app | device | service | website | etc.].' metadata={'article_number': 20, 'article_summary': 'Right to data portability: Grants data subjects the right to receive their personal data in a structured, commonly used, and machine-readable format, and to transfer that data to another controller.\\n'}\n"
     ]
    }
   ],
   "source": [
    "question = \"I need to write an email to restrict the processing of my data. Give me an example or a template.\"\n",
    "response = bot.respond(question)"
   ]
  },
  {
   "cell_type": "code",
   "execution_count": 23,
   "metadata": {},
   "outputs": [
    {
     "name": "stdout",
     "output_type": "stream",
     "text": [
      "Certainly! Here is an example template for an email requesting the restriction of processing of personal data:\n",
      "\n",
      "Subject: Request to Restrict Processing of Personal Data\n",
      "\n",
      "Dear [Recipient's Name],\n",
      "\n",
      "I am writing to formally request the restriction of processing of my personal data in accordance with Article 18(1) of the General Data Protection Regulation (GDPR).\n",
      "\n",
      "I hereby request that you cease processing my personal data until the accuracy of the data can be verified. Please refrain from any further processing of my personal data pending the verification process.\n",
      "\n",
      "I trust that you will comply with this request promptly and inform me once the restriction of processing has been implemented. Please acknowledge receipt of this request at your earliest convenience.\n",
      "\n",
      "Thank you for your attention to this matter.\n",
      "\n",
      "Sincerely,\n",
      "[Your Name]\n"
     ]
    }
   ],
   "source": [
    "print(response)"
   ]
  },
  {
   "cell_type": "markdown",
   "metadata": {},
   "source": [
    "### Question 10"
   ]
  },
  {
   "cell_type": "code",
   "execution_count": 24,
   "metadata": {},
   "outputs": [
    {
     "name": "stderr",
     "output_type": "stream",
     "text": [
      "DEBUG:engine.chatbot:Found relevant document:\n",
      " page_content='minimise the amount of personal data the controller has to process itself.\n",
      "\n",
      "3. Paragraph 1 shall not affect the general contract law of Member States such as the rules on the validity,\n",
      "formation or effect of a contract in relation to a child.\n",
      "\n",
      "General Data Protection Regulation (EU GDPR)\n",
      "\n",
      "The latest consolidated version of the Regulation with corrections by Corrigendum, OJ L 127, 23.5.2018, p. 2\n",
      "((EU) 2016/679). Source: EUR-lex.Related information Article 8. Conditions applicable to child's\n",
      "\n",
      "consent in relation to information society services\n",
      "\n",
      "Recitals' metadata={'article_number': 8, 'article_summary': \"Conditions applicable to child's consent in relation to information society services: Sets the age of consent for data processing related to information society services at 16, with the possibility for member states to lower it to no less than 13 years.\\n\"}\n",
      "DEBUG:engine.chatbot:Found relevant document:\n",
      " page_content='1. Where point (a) of Article 6(1) applies, in relation to the offer of information society services directly to a\n",
      "child, the processing of the personal data of a child shall be lawful where the child is at least 16 years old. Where\n",
      "the child is below the age of 16 years, such processing shall be lawful only if and to the extent that consent is given\n",
      "or authorised by the holder of parental responsibility over the child.\n",
      "\n",
      "Guidelines & Case Law\n",
      "\n",
      "Documents\n",
      "\n",
      "Article 29 Working Party, Guidelines on Consent under Regulation 2016/679 (2018).\n",
      "\n",
      "The inclusion of the wording ‘offered directly to a child’ indicates that Article 8 is intended to apply to some, not all\n",
      "\n",
      "information society services. In this respect, if an information society service provider makes it clear to potential users that it\n",
      "\n",
      "is only offering its service to persons aged 18 or over, and this is not undermined by other evidence (such as the content of the' metadata={'article_number': 8, 'article_summary': \"Conditions applicable to child's consent in relation to information society services: Sets the age of consent for data processing related to information society services at 16, with the possibility for member states to lower it to no less than 13 years.\\n\"}\n",
      "DEBUG:engine.chatbot:Found relevant document:\n",
      " page_content='site or marketing plans) then the service will not be considered to be ‘offered directly to a child’ and Article 8 will not apply.\n",
      "\n",
      "Article 29 Working Party, Guidelines on transparency under Regulation 2016/679 (2018).\n",
      "\n",
      "Where a data controller is targeting children[16] or is, or should be, aware that their goods/services are particularly utilised by\n",
      "\n",
      "children (including where the controller is relying on the consent of the child)[17], it should ensure that the vocabulary, tone\n",
      "\n",
      "and style of the language used is appropriate to and resonates with children so that the child addressee of the information\n",
      "\n",
      "recognises that the message/ information is being directed at them.[18] A useful example of child-centred language used as an\n",
      "\n",
      "alternative to the original legal language can be found in the “UN Convention on the Rights of the Child in Child Friendly\n",
      "\n",
      "Language”.[19]\n",
      "\n",
      "Member States may provide by law for a lower age for those purposes provided that such lower age is not below\n",
      "13 years.' metadata={'article_number': 8, 'article_summary': \"Conditions applicable to child's consent in relation to information society services: Sets the age of consent for data processing related to information society services at 16, with the possibility for member states to lower it to no less than 13 years.\\n\"}\n",
      "DEBUG:engine.chatbot:Found relevant document:\n",
      " page_content='2. The controller shall make reasonable efforts to verify in such cases that consent is given or authorised by the\n",
      "holder of parental responsibility over the child, taking into consideration available technology.\n",
      "\n",
      "Guidelines & Case LawArticle 29 Working Party, Guidelines on Consent under Regulation 2016/679, WP259 rev.01 (2018):\n",
      "\n",
      "What is reasonable, both in terms of verifying that a user is old enough to provide their own consent, and in terms of verifying\n",
      "\n",
      "that a person providing consent on behalf of a child is a holder of parental responsibility, may depend upon the risks inherent\n",
      "\n",
      "in the processing as well as the available technology. In low-risk cases, verification of parental responsibility via email may be\n",
      "\n",
      "sufficient. Conversely, in high-risk cases, it may be appropriate to ask for more proof, so that the controller is able to verify\n",
      "\n",
      "and retain the information pursuant to Article 7(1) GDPR. Trusted third party verification services may offer solutions which' metadata={'article_number': 8, 'article_summary': \"Conditions applicable to child's consent in relation to information society services: Sets the age of consent for data processing related to information society services at 16, with the possibility for member states to lower it to no less than 13 years.\\n\"}\n"
     ]
    }
   ],
   "source": [
    "question = \"If we have an application for children and we process their data, is it possible from GDPR point of view?\"\n",
    "response = bot.respond(question)"
   ]
  },
  {
   "cell_type": "code",
   "execution_count": 25,
   "metadata": {},
   "outputs": [
    {
     "name": "stdout",
     "output_type": "stream",
     "text": [
      "Under the GDPR, processing the personal data of children is subject to specific requirements and safeguards. When offering information society services directly to a child, the processing of their personal data is lawful if the child is at least 16 years old. If the child is below the age of 16, processing their data is lawful only if and to the extent that consent is given or authorized by the holder of parental responsibility over the child.\n",
      "\n",
      "Therefore, if you have an application specifically targeted at children, you must ensure compliance with the GDPR requirements regarding obtaining valid consent for processing their personal data. This may involve obtaining parental consent for children below the age of 16 or any lower age set by Member States, as well as implementing appropriate measures to protect the privacy and rights of children when processing their data.\n"
     ]
    }
   ],
   "source": [
    "print(response)"
   ]
  },
  {
   "cell_type": "code",
   "execution_count": null,
   "metadata": {},
   "outputs": [],
   "source": []
  }
 ],
 "metadata": {
  "kernelspec": {
   "display_name": "rag-from-pdf-8dYP3ntN-py3.11",
   "language": "python",
   "name": "python3"
  },
  "language_info": {
   "codemirror_mode": {
    "name": "ipython",
    "version": 3
   },
   "file_extension": ".py",
   "mimetype": "text/x-python",
   "name": "python",
   "nbconvert_exporter": "python",
   "pygments_lexer": "ipython3",
   "version": "3.11.6"
  }
 },
 "nbformat": 4,
 "nbformat_minor": 2
}
